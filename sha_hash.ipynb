{
 "cells": [
  {
   "cell_type": "code",
   "execution_count": 4,
   "metadata": {
    "collapsed": false,
    "deletable": true,
    "editable": true
   },
   "outputs": [],
   "source": [
    "import hashlib\n",
    "\n",
    "class sha_hash():\n",
    "    def __init__(self, key, hashlen):\n",
    "        self.key = key\n",
    "        \n",
    "        der = sum([ord(i) for i in self.key])\n",
    "        self.hashstart = der % 64\n",
    "        self.hashlen = hashlen\n",
    "        \n",
    "        asciichar = chr(33 + (der % 93))\n",
    "        asciimult = der % 13\n",
    "\n",
    "        self.keyx1 = self.sha_it(self.key[::-1])[:4]\n",
    "        self.keyx2 = asciichar * asciimult\n",
    "        self.keyx3 = key\n",
    "\n",
    "    @staticmethod\n",
    "    def sha_it(s):\n",
    "        b = hashlib.sha256()\n",
    "        b.update(s.encode())\n",
    "        return b.hexdigest().upper()\n",
    "        \n",
    "    def hashid(self, id):\n",
    "        a = '13' + self.keyx1 + id + self.keyx2 + self.keyx3\n",
    "        return (self.sha_it(a) * 2)[self.hashstart:][:self.hashlen]\n",
    "        \n",
    "    def test_key(self):\n",
    "        x = []\n",
    "        for i in range(1000):\n",
    "            for j in range(1000):\n",
    "                subjid = str(i).zfill(3) + '-' + str(j).zfill(3)\n",
    "\n",
    "                x.append(self.hashid(subjid))\n",
    "\n",
    "        return len(set(x)) == len(x)"
   ]
  },
  {
   "cell_type": "code",
   "execution_count": 5,
   "metadata": {
    "collapsed": false,
    "deletable": true,
    "editable": true
   },
   "outputs": [],
   "source": [
    "h = sha_hash(\"Dupa\", 12)"
   ]
  },
  {
   "cell_type": "code",
   "execution_count": 8,
   "metadata": {
    "collapsed": false,
    "deletable": true,
    "editable": true
   },
   "outputs": [
    {
     "data": {
      "text/plain": [
       "'E1CAD3BD6FFD'"
      ]
     },
     "execution_count": 8,
     "metadata": {},
     "output_type": "execute_result"
    }
   ],
   "source": [
    "h.hashid('101-017')"
   ]
  },
  {
   "cell_type": "code",
   "execution_count": 7,
   "metadata": {
    "collapsed": false,
    "deletable": true,
    "editable": true
   },
   "outputs": [
    {
     "data": {
      "text/plain": [
       "'34FDB6E7AA7E'"
      ]
     },
     "execution_count": 7,
     "metadata": {},
     "output_type": "execute_result"
    }
   ],
   "source": [
    "h.hashid('101-002')"
   ]
  },
  {
   "cell_type": "code",
   "execution_count": null,
   "metadata": {
    "collapsed": true,
    "deletable": true,
    "editable": true
   },
   "outputs": [],
   "source": [
    "'''\n",
    "SAS CODE\n",
    "=================\n",
    "%macro mhashid(id, key, keylen);\n",
    "  %let keyx1 = %substr(%sysfunc(sha256(%cmpres(%sysfunc(reverse(&key)))), $hex64.),1,4);\n",
    "\n",
    "  %let s=0;\n",
    "  %do i =1 %to %length(&key);\n",
    "    %let s = %eval(&s+%sysfunc(rank(%substr(&key,&i,1))));\n",
    "  %end;\n",
    "  %let start = %sysfunc(mod(&s,64));\n",
    "  %let asc = %sysfunc(byte(%eval(33+%sysfunc(mod(&s,93)))));\n",
    "  %let ascn = %sysfunc(mod(&s,13));\n",
    "  %let keyx2 = %sysfunc(repeat(%str(&asc),&ascn-1));\n",
    "\n",
    "  %let sha=%sysfunc(repeat(%sysfunc(sha256(%str(13&keyx1.&id.&keyx2.&key)), $hex64.),1));\n",
    "  %let hash = %substr(&sha,%eval(&start+1),&keylen);\n",
    "  &hash;\n",
    "\n",
    "%mend mhashid;\n",
    "\n",
    "%let h = %mhashid(101-001, Dupa, 12);\n",
    "%put &h;\n",
    "\n",
    "\n",
    "%macro hashid(id, key, keylen);\n",
    "  _X_keyx1 = substr(put(sha256(compress(reverse(&key))), $hex64.),1,4);\n",
    "  _X_s=0;\n",
    "  do _X_i =1 to length(&key);\n",
    "    _X_s = _X_s+rank(substr(&key,_X_i,1));\n",
    "  end;\n",
    "  _X_start=mod(_X_s,64);\n",
    "  _X_asc = byte(33 + mod(_X_s,93));\n",
    "  _X_ascn = mod(_X_s,13);\n",
    "  _X_sha=repeat(put(sha256('13'||compress(_X_keyx1)||compress(&id)||repeat(_X_asc,_X_ascn-1)||compress(&key)), $hex64.),1);\n",
    "  hash = substr(_X_sha,_X_start+1,&keylen);\n",
    "  drop _X_:;\n",
    "%mend;\n",
    "\n",
    "data a;\n",
    "  do i=1 to 20;\n",
    "    subjid = '101-'||put(i,z3.);\n",
    "    %hashid(subjid, \"Dupa\", 12);\n",
    "    output;\n",
    "  end;\n",
    "run;\n",
    "\n",
    "\n",
    "'''"
   ]
  },
  {
   "cell_type": "code",
   "execution_count": null,
   "metadata": {
    "collapsed": true,
    "deletable": true,
    "editable": true
   },
   "outputs": [],
   "source": []
  }
 ],
 "metadata": {
  "kernelspec": {
   "display_name": "Python 3",
   "language": "python",
   "name": "python3"
  },
  "language_info": {
   "codemirror_mode": {
    "name": "ipython",
    "version": 3
   },
   "file_extension": ".py",
   "mimetype": "text/x-python",
   "name": "python",
   "nbconvert_exporter": "python",
   "pygments_lexer": "ipython3",
   "version": "3.5.2"
  }
 },
 "nbformat": 4,
 "nbformat_minor": 2
}
